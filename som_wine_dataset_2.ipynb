{
 "cells": [
  {
   "cell_type": "code",
   "execution_count": 420,
   "id": "424c99dc",
   "metadata": {},
   "outputs": [],
   "source": [
    "from minisom import MiniSom\n",
    "from ucimlrepo import fetch_ucirepo\n",
    "from sklearn.preprocessing import MinMaxScaler\n",
    "import matplotlib.pyplot as plt\n",
    "import pandas as pd\n",
    "import numpy as np\n",
    "from sklearn.metrics import classification_report"
   ]
  },
  {
   "cell_type": "markdown",
   "id": "c1475167",
   "metadata": {},
   "source": [
    "## Przygotowanie danych"
   ]
  },
  {
   "cell_type": "code",
   "execution_count": 421,
   "id": "354bc3a5",
   "metadata": {},
   "outputs": [],
   "source": [
    "wine = fetch_ucirepo(id=109) \n",
    "\n",
    "X = wine.data.features \n",
    "y = wine.data.targets"
   ]
  },
  {
   "cell_type": "markdown",
   "id": "5d0801b6",
   "metadata": {},
   "source": [
    "### 1) Sprawdzenie zawartości\n"
   ]
  },
  {
   "cell_type": "code",
   "execution_count": 422,
   "id": "c0d52f81",
   "metadata": {},
   "outputs": [
    {
     "data": {
      "text/html": [
       "<div>\n",
       "<style scoped>\n",
       "    .dataframe tbody tr th:only-of-type {\n",
       "        vertical-align: middle;\n",
       "    }\n",
       "\n",
       "    .dataframe tbody tr th {\n",
       "        vertical-align: top;\n",
       "    }\n",
       "\n",
       "    .dataframe thead th {\n",
       "        text-align: right;\n",
       "    }\n",
       "</style>\n",
       "<table border=\"1\" class=\"dataframe\">\n",
       "  <thead>\n",
       "    <tr style=\"text-align: right;\">\n",
       "      <th></th>\n",
       "      <th>name</th>\n",
       "      <th>role</th>\n",
       "      <th>type</th>\n",
       "      <th>demographic</th>\n",
       "      <th>description</th>\n",
       "      <th>units</th>\n",
       "      <th>missing_values</th>\n",
       "    </tr>\n",
       "  </thead>\n",
       "  <tbody>\n",
       "    <tr>\n",
       "      <th>0</th>\n",
       "      <td>class</td>\n",
       "      <td>Target</td>\n",
       "      <td>Categorical</td>\n",
       "      <td>None</td>\n",
       "      <td>None</td>\n",
       "      <td>None</td>\n",
       "      <td>no</td>\n",
       "    </tr>\n",
       "    <tr>\n",
       "      <th>1</th>\n",
       "      <td>Alcohol</td>\n",
       "      <td>Feature</td>\n",
       "      <td>Continuous</td>\n",
       "      <td>None</td>\n",
       "      <td>None</td>\n",
       "      <td>None</td>\n",
       "      <td>no</td>\n",
       "    </tr>\n",
       "    <tr>\n",
       "      <th>2</th>\n",
       "      <td>Malicacid</td>\n",
       "      <td>Feature</td>\n",
       "      <td>Continuous</td>\n",
       "      <td>None</td>\n",
       "      <td>None</td>\n",
       "      <td>None</td>\n",
       "      <td>no</td>\n",
       "    </tr>\n",
       "    <tr>\n",
       "      <th>3</th>\n",
       "      <td>Ash</td>\n",
       "      <td>Feature</td>\n",
       "      <td>Continuous</td>\n",
       "      <td>None</td>\n",
       "      <td>None</td>\n",
       "      <td>None</td>\n",
       "      <td>no</td>\n",
       "    </tr>\n",
       "    <tr>\n",
       "      <th>4</th>\n",
       "      <td>Alcalinity_of_ash</td>\n",
       "      <td>Feature</td>\n",
       "      <td>Continuous</td>\n",
       "      <td>None</td>\n",
       "      <td>None</td>\n",
       "      <td>None</td>\n",
       "      <td>no</td>\n",
       "    </tr>\n",
       "    <tr>\n",
       "      <th>5</th>\n",
       "      <td>Magnesium</td>\n",
       "      <td>Feature</td>\n",
       "      <td>Integer</td>\n",
       "      <td>None</td>\n",
       "      <td>None</td>\n",
       "      <td>None</td>\n",
       "      <td>no</td>\n",
       "    </tr>\n",
       "    <tr>\n",
       "      <th>6</th>\n",
       "      <td>Total_phenols</td>\n",
       "      <td>Feature</td>\n",
       "      <td>Continuous</td>\n",
       "      <td>None</td>\n",
       "      <td>None</td>\n",
       "      <td>None</td>\n",
       "      <td>no</td>\n",
       "    </tr>\n",
       "    <tr>\n",
       "      <th>7</th>\n",
       "      <td>Flavanoids</td>\n",
       "      <td>Feature</td>\n",
       "      <td>Continuous</td>\n",
       "      <td>None</td>\n",
       "      <td>None</td>\n",
       "      <td>None</td>\n",
       "      <td>no</td>\n",
       "    </tr>\n",
       "    <tr>\n",
       "      <th>8</th>\n",
       "      <td>Nonflavanoid_phenols</td>\n",
       "      <td>Feature</td>\n",
       "      <td>Continuous</td>\n",
       "      <td>None</td>\n",
       "      <td>None</td>\n",
       "      <td>None</td>\n",
       "      <td>no</td>\n",
       "    </tr>\n",
       "    <tr>\n",
       "      <th>9</th>\n",
       "      <td>Proanthocyanins</td>\n",
       "      <td>Feature</td>\n",
       "      <td>Continuous</td>\n",
       "      <td>None</td>\n",
       "      <td>None</td>\n",
       "      <td>None</td>\n",
       "      <td>no</td>\n",
       "    </tr>\n",
       "    <tr>\n",
       "      <th>10</th>\n",
       "      <td>Color_intensity</td>\n",
       "      <td>Feature</td>\n",
       "      <td>Continuous</td>\n",
       "      <td>None</td>\n",
       "      <td>None</td>\n",
       "      <td>None</td>\n",
       "      <td>no</td>\n",
       "    </tr>\n",
       "    <tr>\n",
       "      <th>11</th>\n",
       "      <td>Hue</td>\n",
       "      <td>Feature</td>\n",
       "      <td>Continuous</td>\n",
       "      <td>None</td>\n",
       "      <td>None</td>\n",
       "      <td>None</td>\n",
       "      <td>no</td>\n",
       "    </tr>\n",
       "    <tr>\n",
       "      <th>12</th>\n",
       "      <td>0D280_0D315_of_diluted_wines</td>\n",
       "      <td>Feature</td>\n",
       "      <td>Continuous</td>\n",
       "      <td>None</td>\n",
       "      <td>None</td>\n",
       "      <td>None</td>\n",
       "      <td>no</td>\n",
       "    </tr>\n",
       "    <tr>\n",
       "      <th>13</th>\n",
       "      <td>Proline</td>\n",
       "      <td>Feature</td>\n",
       "      <td>Integer</td>\n",
       "      <td>None</td>\n",
       "      <td>None</td>\n",
       "      <td>None</td>\n",
       "      <td>no</td>\n",
       "    </tr>\n",
       "  </tbody>\n",
       "</table>\n",
       "</div>"
      ],
      "text/plain": [
       "                            name     role         type demographic  \\\n",
       "0                          class   Target  Categorical        None   \n",
       "1                        Alcohol  Feature   Continuous        None   \n",
       "2                      Malicacid  Feature   Continuous        None   \n",
       "3                            Ash  Feature   Continuous        None   \n",
       "4              Alcalinity_of_ash  Feature   Continuous        None   \n",
       "5                      Magnesium  Feature      Integer        None   \n",
       "6                  Total_phenols  Feature   Continuous        None   \n",
       "7                     Flavanoids  Feature   Continuous        None   \n",
       "8           Nonflavanoid_phenols  Feature   Continuous        None   \n",
       "9                Proanthocyanins  Feature   Continuous        None   \n",
       "10               Color_intensity  Feature   Continuous        None   \n",
       "11                           Hue  Feature   Continuous        None   \n",
       "12  0D280_0D315_of_diluted_wines  Feature   Continuous        None   \n",
       "13                       Proline  Feature      Integer        None   \n",
       "\n",
       "   description units missing_values  \n",
       "0         None  None             no  \n",
       "1         None  None             no  \n",
       "2         None  None             no  \n",
       "3         None  None             no  \n",
       "4         None  None             no  \n",
       "5         None  None             no  \n",
       "6         None  None             no  \n",
       "7         None  None             no  \n",
       "8         None  None             no  \n",
       "9         None  None             no  \n",
       "10        None  None             no  \n",
       "11        None  None             no  \n",
       "12        None  None             no  \n",
       "13        None  None             no  "
      ]
     },
     "execution_count": 422,
     "metadata": {},
     "output_type": "execute_result"
    }
   ],
   "source": [
    "wine.variables"
   ]
  },
  {
   "cell_type": "code",
   "execution_count": 423,
   "id": "4f4ae520",
   "metadata": {},
   "outputs": [
    {
     "data": {
      "text/html": [
       "<div>\n",
       "<style scoped>\n",
       "    .dataframe tbody tr th:only-of-type {\n",
       "        vertical-align: middle;\n",
       "    }\n",
       "\n",
       "    .dataframe tbody tr th {\n",
       "        vertical-align: top;\n",
       "    }\n",
       "\n",
       "    .dataframe thead th {\n",
       "        text-align: right;\n",
       "    }\n",
       "</style>\n",
       "<table border=\"1\" class=\"dataframe\">\n",
       "  <thead>\n",
       "    <tr style=\"text-align: right;\">\n",
       "      <th></th>\n",
       "      <th>Alcohol</th>\n",
       "      <th>Malicacid</th>\n",
       "      <th>Ash</th>\n",
       "      <th>Alcalinity_of_ash</th>\n",
       "      <th>Magnesium</th>\n",
       "      <th>Total_phenols</th>\n",
       "      <th>Flavanoids</th>\n",
       "      <th>Nonflavanoid_phenols</th>\n",
       "      <th>Proanthocyanins</th>\n",
       "      <th>Color_intensity</th>\n",
       "      <th>Hue</th>\n",
       "      <th>0D280_0D315_of_diluted_wines</th>\n",
       "      <th>Proline</th>\n",
       "    </tr>\n",
       "  </thead>\n",
       "  <tbody>\n",
       "    <tr>\n",
       "      <th>0</th>\n",
       "      <td>14.23</td>\n",
       "      <td>1.71</td>\n",
       "      <td>2.43</td>\n",
       "      <td>15.6</td>\n",
       "      <td>127</td>\n",
       "      <td>2.80</td>\n",
       "      <td>3.06</td>\n",
       "      <td>0.28</td>\n",
       "      <td>2.29</td>\n",
       "      <td>5.64</td>\n",
       "      <td>1.04</td>\n",
       "      <td>3.92</td>\n",
       "      <td>1065</td>\n",
       "    </tr>\n",
       "    <tr>\n",
       "      <th>1</th>\n",
       "      <td>13.20</td>\n",
       "      <td>1.78</td>\n",
       "      <td>2.14</td>\n",
       "      <td>11.2</td>\n",
       "      <td>100</td>\n",
       "      <td>2.65</td>\n",
       "      <td>2.76</td>\n",
       "      <td>0.26</td>\n",
       "      <td>1.28</td>\n",
       "      <td>4.38</td>\n",
       "      <td>1.05</td>\n",
       "      <td>3.40</td>\n",
       "      <td>1050</td>\n",
       "    </tr>\n",
       "    <tr>\n",
       "      <th>2</th>\n",
       "      <td>13.16</td>\n",
       "      <td>2.36</td>\n",
       "      <td>2.67</td>\n",
       "      <td>18.6</td>\n",
       "      <td>101</td>\n",
       "      <td>2.80</td>\n",
       "      <td>3.24</td>\n",
       "      <td>0.30</td>\n",
       "      <td>2.81</td>\n",
       "      <td>5.68</td>\n",
       "      <td>1.03</td>\n",
       "      <td>3.17</td>\n",
       "      <td>1185</td>\n",
       "    </tr>\n",
       "    <tr>\n",
       "      <th>3</th>\n",
       "      <td>14.37</td>\n",
       "      <td>1.95</td>\n",
       "      <td>2.50</td>\n",
       "      <td>16.8</td>\n",
       "      <td>113</td>\n",
       "      <td>3.85</td>\n",
       "      <td>3.49</td>\n",
       "      <td>0.24</td>\n",
       "      <td>2.18</td>\n",
       "      <td>7.80</td>\n",
       "      <td>0.86</td>\n",
       "      <td>3.45</td>\n",
       "      <td>1480</td>\n",
       "    </tr>\n",
       "    <tr>\n",
       "      <th>4</th>\n",
       "      <td>13.24</td>\n",
       "      <td>2.59</td>\n",
       "      <td>2.87</td>\n",
       "      <td>21.0</td>\n",
       "      <td>118</td>\n",
       "      <td>2.80</td>\n",
       "      <td>2.69</td>\n",
       "      <td>0.39</td>\n",
       "      <td>1.82</td>\n",
       "      <td>4.32</td>\n",
       "      <td>1.04</td>\n",
       "      <td>2.93</td>\n",
       "      <td>735</td>\n",
       "    </tr>\n",
       "    <tr>\n",
       "      <th>...</th>\n",
       "      <td>...</td>\n",
       "      <td>...</td>\n",
       "      <td>...</td>\n",
       "      <td>...</td>\n",
       "      <td>...</td>\n",
       "      <td>...</td>\n",
       "      <td>...</td>\n",
       "      <td>...</td>\n",
       "      <td>...</td>\n",
       "      <td>...</td>\n",
       "      <td>...</td>\n",
       "      <td>...</td>\n",
       "      <td>...</td>\n",
       "    </tr>\n",
       "    <tr>\n",
       "      <th>173</th>\n",
       "      <td>13.71</td>\n",
       "      <td>5.65</td>\n",
       "      <td>2.45</td>\n",
       "      <td>20.5</td>\n",
       "      <td>95</td>\n",
       "      <td>1.68</td>\n",
       "      <td>0.61</td>\n",
       "      <td>0.52</td>\n",
       "      <td>1.06</td>\n",
       "      <td>7.70</td>\n",
       "      <td>0.64</td>\n",
       "      <td>1.74</td>\n",
       "      <td>740</td>\n",
       "    </tr>\n",
       "    <tr>\n",
       "      <th>174</th>\n",
       "      <td>13.40</td>\n",
       "      <td>3.91</td>\n",
       "      <td>2.48</td>\n",
       "      <td>23.0</td>\n",
       "      <td>102</td>\n",
       "      <td>1.80</td>\n",
       "      <td>0.75</td>\n",
       "      <td>0.43</td>\n",
       "      <td>1.41</td>\n",
       "      <td>7.30</td>\n",
       "      <td>0.70</td>\n",
       "      <td>1.56</td>\n",
       "      <td>750</td>\n",
       "    </tr>\n",
       "    <tr>\n",
       "      <th>175</th>\n",
       "      <td>13.27</td>\n",
       "      <td>4.28</td>\n",
       "      <td>2.26</td>\n",
       "      <td>20.0</td>\n",
       "      <td>120</td>\n",
       "      <td>1.59</td>\n",
       "      <td>0.69</td>\n",
       "      <td>0.43</td>\n",
       "      <td>1.35</td>\n",
       "      <td>10.20</td>\n",
       "      <td>0.59</td>\n",
       "      <td>1.56</td>\n",
       "      <td>835</td>\n",
       "    </tr>\n",
       "    <tr>\n",
       "      <th>176</th>\n",
       "      <td>13.17</td>\n",
       "      <td>2.59</td>\n",
       "      <td>2.37</td>\n",
       "      <td>20.0</td>\n",
       "      <td>120</td>\n",
       "      <td>1.65</td>\n",
       "      <td>0.68</td>\n",
       "      <td>0.53</td>\n",
       "      <td>1.46</td>\n",
       "      <td>9.30</td>\n",
       "      <td>0.60</td>\n",
       "      <td>1.62</td>\n",
       "      <td>840</td>\n",
       "    </tr>\n",
       "    <tr>\n",
       "      <th>177</th>\n",
       "      <td>14.13</td>\n",
       "      <td>4.10</td>\n",
       "      <td>2.74</td>\n",
       "      <td>24.5</td>\n",
       "      <td>96</td>\n",
       "      <td>2.05</td>\n",
       "      <td>0.76</td>\n",
       "      <td>0.56</td>\n",
       "      <td>1.35</td>\n",
       "      <td>9.20</td>\n",
       "      <td>0.61</td>\n",
       "      <td>1.60</td>\n",
       "      <td>560</td>\n",
       "    </tr>\n",
       "  </tbody>\n",
       "</table>\n",
       "<p>178 rows × 13 columns</p>\n",
       "</div>"
      ],
      "text/plain": [
       "     Alcohol  Malicacid   Ash  Alcalinity_of_ash  Magnesium  Total_phenols  \\\n",
       "0      14.23       1.71  2.43               15.6        127           2.80   \n",
       "1      13.20       1.78  2.14               11.2        100           2.65   \n",
       "2      13.16       2.36  2.67               18.6        101           2.80   \n",
       "3      14.37       1.95  2.50               16.8        113           3.85   \n",
       "4      13.24       2.59  2.87               21.0        118           2.80   \n",
       "..       ...        ...   ...                ...        ...            ...   \n",
       "173    13.71       5.65  2.45               20.5         95           1.68   \n",
       "174    13.40       3.91  2.48               23.0        102           1.80   \n",
       "175    13.27       4.28  2.26               20.0        120           1.59   \n",
       "176    13.17       2.59  2.37               20.0        120           1.65   \n",
       "177    14.13       4.10  2.74               24.5         96           2.05   \n",
       "\n",
       "     Flavanoids  Nonflavanoid_phenols  Proanthocyanins  Color_intensity   Hue  \\\n",
       "0          3.06                  0.28             2.29             5.64  1.04   \n",
       "1          2.76                  0.26             1.28             4.38  1.05   \n",
       "2          3.24                  0.30             2.81             5.68  1.03   \n",
       "3          3.49                  0.24             2.18             7.80  0.86   \n",
       "4          2.69                  0.39             1.82             4.32  1.04   \n",
       "..          ...                   ...              ...              ...   ...   \n",
       "173        0.61                  0.52             1.06             7.70  0.64   \n",
       "174        0.75                  0.43             1.41             7.30  0.70   \n",
       "175        0.69                  0.43             1.35            10.20  0.59   \n",
       "176        0.68                  0.53             1.46             9.30  0.60   \n",
       "177        0.76                  0.56             1.35             9.20  0.61   \n",
       "\n",
       "     0D280_0D315_of_diluted_wines  Proline  \n",
       "0                            3.92     1065  \n",
       "1                            3.40     1050  \n",
       "2                            3.17     1185  \n",
       "3                            3.45     1480  \n",
       "4                            2.93      735  \n",
       "..                            ...      ...  \n",
       "173                          1.74      740  \n",
       "174                          1.56      750  \n",
       "175                          1.56      835  \n",
       "176                          1.62      840  \n",
       "177                          1.60      560  \n",
       "\n",
       "[178 rows x 13 columns]"
      ]
     },
     "execution_count": 423,
     "metadata": {},
     "output_type": "execute_result"
    }
   ],
   "source": [
    "X"
   ]
  },
  {
   "cell_type": "code",
   "execution_count": 424,
   "id": "9df212ce",
   "metadata": {
    "scrolled": true
   },
   "outputs": [
    {
     "data": {
      "text/html": [
       "<div>\n",
       "<style scoped>\n",
       "    .dataframe tbody tr th:only-of-type {\n",
       "        vertical-align: middle;\n",
       "    }\n",
       "\n",
       "    .dataframe tbody tr th {\n",
       "        vertical-align: top;\n",
       "    }\n",
       "\n",
       "    .dataframe thead th {\n",
       "        text-align: right;\n",
       "    }\n",
       "</style>\n",
       "<table border=\"1\" class=\"dataframe\">\n",
       "  <thead>\n",
       "    <tr style=\"text-align: right;\">\n",
       "      <th></th>\n",
       "      <th>class</th>\n",
       "    </tr>\n",
       "  </thead>\n",
       "  <tbody>\n",
       "    <tr>\n",
       "      <th>0</th>\n",
       "      <td>1</td>\n",
       "    </tr>\n",
       "    <tr>\n",
       "      <th>1</th>\n",
       "      <td>1</td>\n",
       "    </tr>\n",
       "    <tr>\n",
       "      <th>2</th>\n",
       "      <td>1</td>\n",
       "    </tr>\n",
       "    <tr>\n",
       "      <th>3</th>\n",
       "      <td>1</td>\n",
       "    </tr>\n",
       "    <tr>\n",
       "      <th>4</th>\n",
       "      <td>1</td>\n",
       "    </tr>\n",
       "    <tr>\n",
       "      <th>...</th>\n",
       "      <td>...</td>\n",
       "    </tr>\n",
       "    <tr>\n",
       "      <th>173</th>\n",
       "      <td>3</td>\n",
       "    </tr>\n",
       "    <tr>\n",
       "      <th>174</th>\n",
       "      <td>3</td>\n",
       "    </tr>\n",
       "    <tr>\n",
       "      <th>175</th>\n",
       "      <td>3</td>\n",
       "    </tr>\n",
       "    <tr>\n",
       "      <th>176</th>\n",
       "      <td>3</td>\n",
       "    </tr>\n",
       "    <tr>\n",
       "      <th>177</th>\n",
       "      <td>3</td>\n",
       "    </tr>\n",
       "  </tbody>\n",
       "</table>\n",
       "<p>178 rows × 1 columns</p>\n",
       "</div>"
      ],
      "text/plain": [
       "     class\n",
       "0        1\n",
       "1        1\n",
       "2        1\n",
       "3        1\n",
       "4        1\n",
       "..     ...\n",
       "173      3\n",
       "174      3\n",
       "175      3\n",
       "176      3\n",
       "177      3\n",
       "\n",
       "[178 rows x 1 columns]"
      ]
     },
     "execution_count": 424,
     "metadata": {},
     "output_type": "execute_result"
    }
   ],
   "source": [
    "y"
   ]
  },
  {
   "cell_type": "markdown",
   "id": "05523238",
   "metadata": {},
   "source": [
    "### 2) Podział na zbiory\n",
    "Zbiór danych jest mały, co zmniejsza pewność związaną z poprawną oceną modelu przy tradycyjnym, jednokrotnym podziale zbioru na treningowy i testowy. Z tego powodu szczególnie wskazane jest użycie k-fold cross validation. W tym przypadku pozostałem przy standardowym podziale danych 80/20, czyli k = 5 (metoda ta jest wykorzystywana później)."
   ]
  },
  {
   "cell_type": "code",
   "execution_count": 425,
   "id": "87f0d4df",
   "metadata": {},
   "outputs": [],
   "source": [
    "from sklearn.model_selection import train_test_split"
   ]
  },
  {
   "cell_type": "code",
   "execution_count": 426,
   "id": "85ef0145",
   "metadata": {},
   "outputs": [],
   "source": [
    "X_train, X_test, y_train, y_test = train_test_split(X, y, stratify=y, test_size=0.2, random_state=42)"
   ]
  },
  {
   "cell_type": "markdown",
   "id": "0d746b37",
   "metadata": {},
   "source": [
    "### 3) Normalizacja\n",
    "W uczeniu SOM istotne są dystanse liczone w przestrzeni zdefiniowanej przez wartości atrybutów. W związku z tym, atrybuty, które mają znacząco większe przedziały wartości są w stanie zdominować pozostałe z mniejszymi przedziałami, co negatywnie wypłwa na cały prcoes. Rozwiązaniem jest normalizacja. Za pomocą MinMaxScaler przekształcam dane, żeby miały zakres od 0 do 1. Metoda ta zachowuje względny dystans między danymi i zdaje się być najczęściej stosowana w kontekście SOM.\n",
    "Należy pamiętać, aby normalizować dane po ich rozdzieleniu. Inaczej może dojść do 'przecieku' informacji między zbiorem testowym a treningowym, co zmniejsza wiarygodność ocen modelu."
   ]
  },
  {
   "cell_type": "code",
   "execution_count": 427,
   "id": "c7a0861b",
   "metadata": {},
   "outputs": [],
   "source": [
    "scaler = MinMaxScaler(feature_range=(0,1))\n",
    "X_train = scaler.fit_transform(X_train)\n",
    "X_test = scaler.transform(X_test)"
   ]
  },
  {
   "cell_type": "code",
   "execution_count": 428,
   "id": "f7cccf17",
   "metadata": {
    "scrolled": true
   },
   "outputs": [
    {
     "name": "stdout",
     "output_type": "stream",
     "text": [
      "[[0.59210526 0.17786561 0.79569892 ... 0.49593496 0.56981132 0.48666128]\n",
      " [0.71052632 0.15019763 0.72043011 ... 0.57723577 0.54339623 0.81406629]\n",
      " [0.62105263 0.20355731 0.67741935 ... 0.35772358 0.73584906 0.74130962]\n",
      " ...\n",
      " [0.65263158 0.20948617 0.69354839 ... 0.50406504 0.60377358 0.66046888]\n",
      " [0.50789474 0.53557312 0.53225806 ... 0.16260163 0.18113208 0.32093775]\n",
      " [0.48684211 0.44466403 0.55913978 ... 0.21138211 0.05660377 0.20371867]]\n"
     ]
    }
   ],
   "source": [
    "print(X_train)"
   ]
  },
  {
   "cell_type": "code",
   "execution_count": 429,
   "id": "9b2a847f",
   "metadata": {},
   "outputs": [
    {
     "name": "stdout",
     "output_type": "stream",
     "text": [
      "[[ 0.80789474  0.28063241  0.50537634  0.3814433   0.38043478  0.67931034\n",
      "   0.87647059  0.18        0.62025316  0.38139932  0.62601626  0.71698113\n",
      "   0.99595796]\n",
      " [ 0.38947368  0.09881423  0.47849462  0.3556701   0.16304348  0.35172414\n",
      "   0.07058824  0.94        0.26265823  0.35580205  0.2195122   0.09056604\n",
      "   0.30072757]\n",
      " [ 0.74736842  0.22924901  0.77419355  0.45360825  0.40217391  0.67931034\n",
      "   0.77352941  0.48        0.42405063  0.27474403  0.62601626  0.80377358\n",
      "   0.51495554]\n",
      " [ 0.13947368  0.25889328  1.00537634  0.92268041  0.5326087   0.75862069\n",
      "   1.39411765  0.68        0.45886076  0.40273038  0.36585366  0.91320755\n",
      "   0.15117219]\n",
      " [ 0.69473684  0.10079051  0.30107527  0.3814433   0.26086957  0.3862069\n",
      "   0.42647059  0.38        0.09810127  0.21501706  0.6097561   0.4490566\n",
      "   0.28455942]\n",
      " [ 0.73684211  0.1798419   0.66666667  0.34020619  0.26086957  0.50689655\n",
      "   0.77941176  0.18        0.59177215  0.36860068  0.61788618  0.79245283\n",
      "   0.79789814]\n",
      " [ 0.79736842  0.27865613  0.67204301  0.36082474  0.55434783  0.55862069\n",
      "   0.63823529  0.36        0.26265823  0.32167235  0.47154472  0.87169811\n",
      "   0.82215036]\n",
      " [ 0.54736842  0.05335968  0.1827957   0.22680412  0.08695652  0.68965517\n",
      "   0.83529412  0.26        0.58860759  0.34300341  0.5203252   0.72075472\n",
      "   0.18108327]\n",
      " [ 0.26578947  0.70355731  0.5483871   0.58762887  0.10869565  0.3862069\n",
      "   0.41470588  0.58        0.2943038   0.11262799  0.25203252  0.49056604\n",
      "   0.24413905]\n",
      " [ 0.63684211  0.58498024  0.66666667  0.63917526  0.44565217  0.24827586\n",
      "   0.17058824  0.6         0.32911392  0.80204778  0.30081301  0.10943396\n",
      "   0.3371059 ]\n",
      " [ 0.34473684  0.33794466  0.59139785  0.53608247  0.30434783  0.54482759\n",
      "   0.52058824  0.42        0.28164557  0.12969283  0.2601626   0.79622642\n",
      "   0.12934519]\n",
      " [ 0.68157895  0.83201581  0.53225806  0.48453608  0.23913043  0.35172414\n",
      "   0.13529412  0.68        0.18987342  0.2662116   0.3495935   0.29433962\n",
      "   0.21988682]\n",
      " [ 0.75        0.22727273  0.66129032  0.22680412  0.33695652  0.78275862\n",
      "   0.94705882  0.08        0.40506329  0.35409556  0.32520325  0.86415094\n",
      "   0.66046888]\n",
      " [ 0.48157895  0.12055336  0.51612903  0.3814433   0.56521739  0.18275862\n",
      "   0.26764706  0.16        0.16455696  0.24061433  0.22764228  0.00754717\n",
      "   0.28455942]\n",
      " [ 0.88157895  0.22332016  0.5483871   0.07216495  0.34782609  0.8\n",
      "   0.97058824  0.32        0.80379747  0.53071672  0.58536585  0.65283019\n",
      "   1.02586904]\n",
      " [ 0.31315789  0.10869565  0.31182796  0.43298969  0.23913043  0.47586207\n",
      "   0.5         0.52        0.52531646  0.12116041  0.30894309  0.66037736\n",
      "   0.02748585]\n",
      " [ 0.36578947  0.35770751  0.48924731  0.58762887  0.2173913   0.24137931\n",
      "   0.44117647  1.06        0.3164557   0.12116041  0.30894309  0.76603774\n",
      "   0.02991108]\n",
      " [ 0.79736842  0.17588933  0.49462366  0.27835052  0.60869565  0.69655172\n",
      "   0.83235294  0.22        0.53164557  0.37286689  0.49593496  0.92075472\n",
      "   0.40582053]\n",
      " [ 0.27631579  0.26482213  0.1827957   0.3556701   0.29347826  0.43103448\n",
      "   0.53823529  0.26        0.31012658  0.17235495  0.64227642  0.63773585\n",
      "   0.34923201]\n",
      " [ 0.53684211  0.15019763  0.39784946  0.25257732  0.30434783  0.48965517\n",
      "   0.67647059  0.3         0.30063291  0.20648464  0.56910569  0.53584906\n",
      "   0.59983832]\n",
      " [ 0.33157895  0.41304348  0.46236559  0.3814433   0.19565217  0.50689655\n",
      "   0.56176471  0.24        0.49683544  0.07423208  0.54471545  0.76603774\n",
      "   0.00970089]\n",
      " [ 0.34210526  0.07114625  0.49462366  0.27835052  0.33695652  0.36896552\n",
      "   0.22058824  1.         -0.00316456  0.16979522  0.62601626  0.1509434\n",
      "   0.32497979]\n",
      " [ 0.70526316  0.22134387  0.53763441  0.30927835  0.33695652  0.56206897\n",
      "   0.74705882  0.28        0.40189873  0.21501706  0.51219512  1.03018868\n",
      "   0.61196443]\n",
      " [ 0.83157895  0.16798419  0.60215054  0.30412371  0.41304348  0.8\n",
      "   1.05588235  0.38        0.4556962   0.6331058   0.6097561   0.58490566\n",
      "   1.13338723]\n",
      " [ 0.35263158  0.06521739  0.39784946  0.40721649  0.19565217  0.87586207\n",
      "   1.00294118  0.22        0.48417722  0.27474403  0.45528455  0.56603774\n",
      "   0.30881164]\n",
      " [ 0.3         0.14031621  0.62903226  0.43298969  0.36956522  0.3137931\n",
      "   0.41470588  0.64        0.19303797  0.14249147  0.78861789  0.36226415\n",
      "   0.06224737]\n",
      " [ 0.70789474  0.13636364  0.61290323  0.31443299  0.41304348  0.83448276\n",
      "   0.97941176  0.12        0.51265823  0.47098976  0.33333333  0.60377358\n",
      "   0.81406629]\n",
      " [ 0.46842105  0.31027668  0.55913978  0.69072165  0.30434783  0.05862069\n",
      "   0.22058824  0.28        0.12974684  0.37713311  0.14634146  0.03396226\n",
      "   0.2279709 ]\n",
      " [ 0.19210526  0.38339921  0.83870968  0.48453608  0.35869565  0.26551724\n",
      "   0.49705882  0.94        0.19936709  0.21501706  0.6097561   0.46415094\n",
      "   0.26596605]\n",
      " [ 0.56315789  0.87944664  0.51612903  0.58762887  0.25        0.26206897\n",
      "   0.08529412  0.96        0.35759494  0.56484642  0.09756098  0.07924528\n",
      "   0.36135812]\n",
      " [ 0.80789474  0.25296443  0.55913978  0.42268041  0.35869565  0.61034483\n",
      "   0.75882353  0.38        0.62025316  0.41979522  0.4796748   0.55849057\n",
      "   0.63217462]\n",
      " [ 0.56315789  0.36561265  0.54301075  0.48453608  0.54347826  0.23103448\n",
      "   0.1         0.8         0.32911392  0.68430034  0.09756098  0.13207547\n",
      "   0.45432498]\n",
      " [ 0.15526316  0.24703557  0.49462366  0.3814433   0.30434783  0.70344828\n",
      "   0.56470588  0.08        0.2943038   0.16808874  0.55284553  0.63773585\n",
      "   0.0541633 ]\n",
      " [ 0.81578947  0.66403162  0.74193548  0.71649485  0.2826087   0.36896552\n",
      "   0.12352941  0.86        0.2943038   0.67576792  0.10569106  0.1245283\n",
      "   0.2279709 ]\n",
      " [ 0.72368421  0.39920949  0.50537634  0.58762887  0.2173913   0.12758621\n",
      "   0.1         0.56        0.19303797  0.70819113  0.17886179  0.15471698\n",
      "   0.27243331]\n",
      " [ 0.70526316  0.97035573  0.58602151  0.51030928  0.27173913  0.24137931\n",
      "   0.07941176  0.78        0.20253165  0.54778157  0.1300813   0.17735849\n",
      "   0.37348424]]\n"
     ]
    }
   ],
   "source": [
    "print(X_test)"
   ]
  },
  {
   "cell_type": "markdown",
   "id": "31a32ef9",
   "metadata": {},
   "source": [
    "Aby kod działał poprawnie należy pamiętać, żeby zbiory były typu numpy.ndarray."
   ]
  },
  {
   "cell_type": "code",
   "execution_count": 430,
   "id": "e356090d",
   "metadata": {
    "scrolled": true
   },
   "outputs": [],
   "source": [
    "y_train = y_train[\"class\"].values\n",
    "y_test = y_test[\"class\"].values"
   ]
  },
  {
   "cell_type": "code",
   "execution_count": 431,
   "id": "56285b91",
   "metadata": {},
   "outputs": [
    {
     "name": "stdout",
     "output_type": "stream",
     "text": [
      "<class 'numpy.ndarray'> <class 'numpy.ndarray'>\n"
     ]
    }
   ],
   "source": [
    "print(type(X_train), type(y_train))"
   ]
  },
  {
   "cell_type": "markdown",
   "id": "0950a4a8",
   "metadata": {},
   "source": [
    "## Struktura i uczenie sieci"
   ]
  },
  {
   "cell_type": "markdown",
   "id": "419bf963",
   "metadata": {},
   "source": [
    "### Parametry \n",
    "- x: kolumny (neurony)\n",
    "- y: wiersze (neurony)\n",
    "- iteracje (t)\n",
    "- input_len: ilość atrybutów dla każdego wektora na wejściu\n",
    "- sigma: promień sąsiedztwa, wpływa na szybkość uczenia się sąsiednich neuronów w każdej iteracji\n",
    "    - sigma(t) = sigma / (1 + t/T), gdzie T = #num_iteration/2)\n",
    "- learning_rate: współczynnik uczenia\n",
    "    - learning_rate(t) = learning_rate / (1 + t/T), gdzie T = #num_iteration/2\n",
    "- decay_function: funkcja, która kontroluje, jak zmniejsza się sigma i learning_rate podczas uczenia się sieci.\n",
    "    - learning_rate / (1+t/(max_iterarations/2)).\n",
    "- neighborhood_function: funkcja sąsiedztwa (domyślnie: 'gaussian')\n",
    "- topology: topologia mapy (domyślnie: 'rectangular')\n",
    "- activation_distance: sposób obliczania dystansu między danymi wejściowymi a neuronem (domyślnie metryka euklidesowa)"
   ]
  },
  {
   "cell_type": "markdown",
   "id": "95a7f73d",
   "metadata": {},
   "source": [
    "### Proces uczenia\n",
    "MiniSom oferuje dwie metody inicjalizacji wag:\n",
    "- random_weights_init: inicjalizuje wagi neuronów losowymi wartościami z zakresu ustalonego na podstawie danych wejściowych.\n",
    "- pca_weights_init: inicjalizacja w przeciwieństwie do poprzedniej metody nie jest losowa i zapewnia lepszą zbieżność procesu uczenia.\n",
    "\n",
    "MiniSom oferuje dwie metody uczenia:\n",
    "- train_random: wybierane są losowe próbki danych\n",
    "- train_batch: dane są wybierane w kolejności w jakiej są przechowywane"
   ]
  },
  {
   "cell_type": "markdown",
   "id": "f42fe0f3",
   "metadata": {},
   "source": [
    "W poprzednich wersjach stosowałem random_weights_init, ale ostatecznie doszedłem do wniosku, że pca_weights_init da lepsze rezultaty."
   ]
  },
  {
   "cell_type": "markdown",
   "id": "db0aecce",
   "metadata": {},
   "source": [
    "### Początkowa konfiguracja\n",
    "Heurystyka: M ≈ 5 sqrt(N), gdzie M to liczba neuronów, a N liczba obserwacji.\n",
    "\n",
    "Sigma musi być odpowiednia do rozmiarów mapy (sigma < x/2 i sigma < y/2). Nie znalazłem konkretnych wskazówek jak wybrać jak najlepszą wartość learning rate, początkowo zdecydowałem się wybrać zbliżoną do tych wartości, które widziałem w użyciu (0.5). Co do pozostałych własności SOM, to zostałem przy domyślnych atrybutach."
   ]
  },
  {
   "cell_type": "markdown",
   "id": "828d2598",
   "metadata": {},
   "source": [
    "## Minimalizacja błędów\n",
    "Dopasowując sieć do danych skupiłem sie na dwóch metrykach: quantization_error i topographic_error.\n",
    "\n",
    "topographic_error: miara jak dobrze struktura danych została zachowana na mapie. Liczona jako ilość obserwacji, w których najlepiej pasujący element nie jest sąsiadem drugiego najlepiej pasującego elementu. Przyjmuje wartości od 0 (wszystkie wspomniane elementy są sąsiadami) do 1 (wspomniane elementy nie sąsiadują ze sobą). Im niższa wartość tym lepiej.\n",
    "\n",
    "quantization_error: średni dystans od elementów wejściowych do odpowiadającym im wygranym neuronom. Zmniejsza się wraz ze zwiększaniem się mapy, więc nie może służyć do porównywania map o różnych rozmiarach, co oznacza, że rozmiar mapy powinien pozostać stały."
   ]
  },
  {
   "cell_type": "markdown",
   "id": "ae8fec16",
   "metadata": {},
   "source": [
    "Poniżej widzimy, jak oba te błędy zmniejszają się wraz z kolejnymi iteracjami. Świadczy to dobrze o zbieżności modelu i ułatwia wybranie odpowiedniejszej maksymalnej ilości iteracji (zdecydowałem się na 8000). Na każdym wykresie widzimy SOM z innym learning_rate. Im wyższa jego wartość, tym wykresy są bardziej poszarpane, ale zbieżność wydaje się być podobna. Niemniej jednak dla learning_rate = 0.2 sieć wydaje się mieć lepszy topographic_error i zdaje się lepiej uczyć, więc postanowiłem przejść na tę wartość."
   ]
  },
  {
   "cell_type": "code",
   "execution_count": 432,
   "id": "2a522944",
   "metadata": {},
   "outputs": [
    {
     "data": {
      "image/png": "[encoded data removed]",
      "text/plain": [
       "<Figure size 640x480 with 1 Axes>"
      ]
     },
     "metadata": {},
     "output_type": "display_data"
    },
    {
     "name": "stdout",
     "output_type": "stream",
     "text": [
      "0.34281314291831694\n",
      "0.04929577464788732\n"
     ]
    }
   ],
   "source": [
    "som = MiniSom(8, 8, X_train.shape[1], sigma=2., learning_rate=.5,\n",
    "              neighborhood_function='gaussian', random_seed=42, topology='rectangular')\n",
    "\n",
    "max_iter = 10000\n",
    "q_error = []\n",
    "t_error = []\n",
    "\n",
    "for i in range(max_iter):\n",
    "    rand_i = np.random.randint(len(X_train))\n",
    "    som.update(X_train[rand_i], som.winner(X_train[rand_i]), i, max_iter)\n",
    "    q_error.append(som.quantization_error(X_train))\n",
    "    t_error.append(som.topographic_error(X_train))\n",
    "\n",
    "plt.plot(np.arange(max_iter), q_error, label='quantization error')\n",
    "plt.plot(np.arange(max_iter), t_error, label='topographic error')\n",
    "plt.ylabel('error')\n",
    "plt.xlabel('iterations')\n",
    "plt.legend()\n",
    "plt.show()\n",
    "\n",
    "print(q_error[8000])\n",
    "print(t_error[8000])"
   ]
  },
  {
   "cell_type": "code",
   "execution_count": 433,
   "id": "1cb9091f",
   "metadata": {
    "scrolled": true
   },
   "outputs": [
    {
     "data": {
      "image/png": "[encoded data removed]",
      "text/plain": [
       "<Figure size 640x480 with 1 Axes>"
      ]
     },
     "metadata": {},
     "output_type": "display_data"
    },
    {
     "name": "stdout",
     "output_type": "stream",
     "text": [
      "0.3341605296257656\n",
      "0.014084507042253521\n"
     ]
    }
   ],
   "source": [
    "som = MiniSom(8, 8, X_train.shape[1], sigma=2., learning_rate=.2,\n",
    "              neighborhood_function='gaussian', random_seed=42, topology='rectangular')\n",
    "\n",
    "max_iter = 10000\n",
    "q_error = []\n",
    "t_error = []\n",
    "\n",
    "for i in range(max_iter):\n",
    "    rand_i = np.random.randint(len(X_train))\n",
    "    som.update(X_train[rand_i], som.winner(X_train[rand_i]), i, max_iter)\n",
    "    q_error.append(som.quantization_error(X_train))\n",
    "    t_error.append(som.topographic_error(X_train))\n",
    "\n",
    "plt.plot(np.arange(max_iter), q_error, label='quantization error')\n",
    "plt.plot(np.arange(max_iter), t_error, label='topographic error')\n",
    "plt.ylabel('error')\n",
    "plt.xlabel('iterations')\n",
    "plt.legend()\n",
    "plt.show()\n",
    "\n",
    "print(q_error[8000])\n",
    "print(t_error[8000])"
   ]
  },
  {
   "cell_type": "code",
   "execution_count": 434,
   "id": "b0c6b933",
   "metadata": {},
   "outputs": [
    {
     "data": {
      "image/png": "[encoded data removed]",
      "text/plain": [
       "<Figure size 640x480 with 1 Axes>"
      ]
     },
     "metadata": {},
     "output_type": "display_data"
    },
    {
     "name": "stdout",
     "output_type": "stream",
     "text": [
      "0.35172280929140254\n",
      "0.04225352112676056\n"
     ]
    }
   ],
   "source": [
    "som = MiniSom(8, 8, X_train.shape[1], sigma=2., learning_rate=.8,\n",
    "              neighborhood_function='gaussian', random_seed=42, topology='rectangular')\n",
    "\n",
    "max_iter = 10000\n",
    "q_error = []\n",
    "t_error = []\n",
    "\n",
    "for i in range(max_iter):\n",
    "    rand_i = np.random.randint(len(X_train))\n",
    "    som.update(X_train[rand_i], som.winner(X_train[rand_i]), i, max_iter)\n",
    "    q_error.append(som.quantization_error(X_train))\n",
    "    t_error.append(som.topographic_error(X_train))\n",
    "\n",
    "plt.plot(np.arange(max_iter), q_error, label='quantization error')\n",
    "plt.plot(np.arange(max_iter), t_error, label='topographic error')\n",
    "plt.ylabel('error')\n",
    "plt.xlabel('iterations')\n",
    "plt.legend()\n",
    "plt.show()\n",
    "\n",
    "print(q_error[8000])\n",
    "print(t_error[8000])"
   ]
  },
  {
   "cell_type": "code",
   "execution_count": 435,
   "id": "e22ff79a",
   "metadata": {
    "scrolled": true
   },
   "outputs": [
    {
     "name": "stdout",
     "output_type": "stream",
     "text": [
      "x_size: 8\n",
      "y_size: 8\n",
      "input_len:  13\n"
     ]
    }
   ],
   "source": [
    "from math import sqrt, ceil\n",
    "\n",
    "# Ustawienie hiperparametrów\n",
    "N = X_train.shape[0]\n",
    "M = 5*sqrt(N)\n",
    "x_size = ceil(sqrt(M))\n",
    "y_size = ceil(sqrt(M))\n",
    "input_len = X_train.shape[1]\n",
    "sigma = 2.0\n",
    "learning_rate = 0.2\n",
    "iterations = 8000\n",
    "\n",
    "print('x_size:', x_size)\n",
    "print('y_size:', y_size)\n",
    "print('input_len: ', input_len)"
   ]
  },
  {
   "cell_type": "code",
   "execution_count": 436,
   "id": "dd20dcec",
   "metadata": {},
   "outputs": [
    {
     "name": "stdout",
     "output_type": "stream",
     "text": [
      "0.3171927967130989\n",
      "0.007042253521126761\n"
     ]
    }
   ],
   "source": [
    "som = MiniSom(x_size, y_size, input_len, sigma, learning_rate, random_seed=10)\n",
    "\n",
    "som.pca_weights_init(X_train)\n",
    "som.train_random(data = X_train, num_iteration = iterations)\n",
    "\n",
    "print(som.quantization_error(X_train))\n",
    "print(som.topographic_error(X_train))"
   ]
  },
  {
   "cell_type": "markdown",
   "id": "2e76e5c1",
   "metadata": {},
   "source": [
    "Poniższa funkcja klasyfikuje dane do etykiety przypisanej do zwycięskiego neuronu. Etykieta jest przypisywana do neuronu, jeśli większość próbek odwzorowanych w tym neuronie ją posiada. Funkcja przypisze najczęstszą etykietę w zbiorze danych w przypadku, gdy próbka jest mapowana na neuron do którego nie jest przypisana żadna klasa."
   ]
  },
  {
   "cell_type": "code",
   "execution_count": 437,
   "id": "58ecda11",
   "metadata": {},
   "outputs": [],
   "source": [
    "def classify(som, data):\n",
    "    winmap = som.labels_map(X_train, y_train)\n",
    "    default_class = np.sum(list(winmap.values())).most_common()[0][0]\n",
    "    result = []\n",
    "    for d in data:\n",
    "        win_position = som.winner(d)\n",
    "        if win_position in winmap:\n",
    "            result.append(winmap[win_position].most_common()[0][0])\n",
    "        else:\n",
    "            result.append(default_class)\n",
    "\n",
    "    return result"
   ]
  },
  {
   "cell_type": "markdown",
   "id": "52a838b7",
   "metadata": {},
   "source": [
    "### Miary klasyfikacji\n",
    "\n",
    "- Accuracy: ułamek poprawnie sklasyfikowanych obiektów\n",
    "- Precision: True Positive / (True Positive + False Positive).\n",
    "- Recall: True Positives / (True Positive + False Negatives).\n",
    "- F1 Score: ważona średnia harmoniczna precyzji i czułości. Im bliżej 1, tym lepszy model.\n",
    "\n",
    "Support informuje nas, ile obserwacji należało do każdej klasy w zbiorze testowym. Macro avg to średnia precyzji, czułości i F1-score dla wszystkich klas, a weighted avg to ważona średnia precyzji, czułości i F1-score, biorąc pod uwagę liczbę instancji dla każdej klasy.\n",
    "\n",
    "Jak widać poniżej model osiąga przy obecnej metodzie testowanie całkiem dobre wyniki."
   ]
  },
  {
   "cell_type": "code",
   "execution_count": 438,
   "id": "dabdfe86",
   "metadata": {
    "scrolled": false
   },
   "outputs": [
    {
     "name": "stdout",
     "output_type": "stream",
     "text": [
      "              precision    recall  f1-score   support\n",
      "\n",
      "           1       0.92      1.00      0.96        12\n",
      "           2       0.93      0.93      0.93        14\n",
      "           3       1.00      0.90      0.95        10\n",
      "\n",
      "    accuracy                           0.94        36\n",
      "   macro avg       0.95      0.94      0.95        36\n",
      "weighted avg       0.95      0.94      0.94        36\n",
      "\n"
     ]
    }
   ],
   "source": [
    "print(classification_report(y_test, classify(som, X_test)))"
   ]
  },
  {
   "cell_type": "markdown",
   "id": "3ed8c493",
   "metadata": {},
   "source": [
    "### K-Fold Cross Validation\n",
    "\n",
    "Poniżej znajduje się sprawdzenie zbioru za pomocą wspomnianej metody. Do ostatecznego uczenia modelu użyłbym train_random, gdyż na ogół daje lepsze rezultaty, ale żeby dobrze porównać poszczególne wersje używam train_batch."
   ]
  },
  {
   "cell_type": "code",
   "execution_count": 439,
   "id": "dcaec7a9",
   "metadata": {},
   "outputs": [],
   "source": [
    "from sklearn.model_selection import StratifiedKFold\n",
    "X_array = X.to_numpy()\n",
    "y_array = y[\"class\"].values\n",
    "\n",
    "skf = StratifiedKFold(n_splits=5, shuffle=True, random_state=42)"
   ]
  },
  {
   "cell_type": "code",
   "execution_count": 440,
   "id": "42cf3d87",
   "metadata": {},
   "outputs": [
    {
     "name": "stdout",
     "output_type": "stream",
     "text": [
      "              precision    recall  f1-score   support\n",
      "\n",
      "           1       0.86      1.00      0.92        12\n",
      "           2       0.92      0.79      0.85        14\n",
      "           3       0.90      0.90      0.90        10\n",
      "\n",
      "    accuracy                           0.89        36\n",
      "   macro avg       0.89      0.90      0.89        36\n",
      "weighted avg       0.89      0.89      0.89        36\n",
      "\n",
      "              precision    recall  f1-score   support\n",
      "\n",
      "           1       0.92      1.00      0.96        12\n",
      "           2       1.00      0.86      0.92        14\n",
      "           3       0.91      1.00      0.95        10\n",
      "\n",
      "    accuracy                           0.94        36\n",
      "   macro avg       0.94      0.95      0.95        36\n",
      "weighted avg       0.95      0.94      0.94        36\n",
      "\n",
      "              precision    recall  f1-score   support\n",
      "\n",
      "           1       1.00      1.00      1.00        12\n",
      "           2       0.93      1.00      0.97        14\n",
      "           3       1.00      0.90      0.95        10\n",
      "\n",
      "    accuracy                           0.97        36\n",
      "   macro avg       0.98      0.97      0.97        36\n",
      "weighted avg       0.97      0.97      0.97        36\n",
      "\n",
      "              precision    recall  f1-score   support\n",
      "\n",
      "           1       1.00      1.00      1.00        12\n",
      "           2       0.93      0.93      0.93        14\n",
      "           3       0.89      0.89      0.89         9\n",
      "\n",
      "    accuracy                           0.94        35\n",
      "   macro avg       0.94      0.94      0.94        35\n",
      "weighted avg       0.94      0.94      0.94        35\n",
      "\n",
      "              precision    recall  f1-score   support\n",
      "\n",
      "           1       0.90      0.82      0.86        11\n",
      "           2       0.88      0.93      0.90        15\n",
      "           3       1.00      1.00      1.00         9\n",
      "\n",
      "    accuracy                           0.91        35\n",
      "   macro avg       0.92      0.92      0.92        35\n",
      "weighted avg       0.91      0.91      0.91        35\n",
      "\n",
      "Mean Precision: 0.9346466866466866\n",
      "Mean Recall: 0.9325396825396826\n",
      "Mean F1-score: 0.931746288969118\n",
      "Mean Accuracy: 0.9325396825396826\n"
     ]
    }
   ],
   "source": [
    "precision_list, recall_list, f1_list, accuracy_list = [], [], [], []\n",
    "\n",
    "scaler = MinMaxScaler()\n",
    "\n",
    "for train_index, test_index in skf.split(X_array, y_array):\n",
    "    X_train, X_test = X_array[train_index], X_array[test_index]\n",
    "    y_train, y_test = y_array[train_index], y_array[test_index]\n",
    "    \n",
    "    X_train = scaler.fit_transform(X_train)\n",
    "    X_test = scaler.transform(X_test)\n",
    "\n",
    "    som.pca_weights_init(X_train)\n",
    "    som.train_batch(data=X_train, num_iteration=iterations)\n",
    "\n",
    "    y_pred = np.array(classify(som, X_test))\n",
    "    print(classification_report(y_test, y_pred))\n",
    "\n",
    "    report = classification_report(y_test, y_pred, output_dict=True)\n",
    "\n",
    "    precision_list.append(report['weighted avg']['precision'])\n",
    "    recall_list.append(report['weighted avg']['recall'])\n",
    "    f1_list.append(report['weighted avg']['f1-score'])\n",
    "    accuracy_list.append(report['accuracy'])\n",
    "\n",
    "mean_precision = np.mean(precision_list)\n",
    "mean_recall = np.mean(recall_list)\n",
    "mean_f1 = np.mean(f1_list)\n",
    "mean_accuracy = np.mean(accuracy_list)\n",
    "\n",
    "print(f'Mean Precision: {mean_precision}')\n",
    "print(f'Mean Recall: {mean_recall}')\n",
    "print(f'Mean F1-score: {mean_f1}')\n",
    "print(f'Mean Accuracy: {mean_accuracy}')"
   ]
  },
  {
   "cell_type": "markdown",
   "id": "d9b6fcc9",
   "metadata": {},
   "source": [
    "### Funkcja rysująca U-Matrix\n",
    "Poniższa funkcja rysuje SOM w postaci U-Matrix. Neurony są przedstawione jako tablica komórek, kolor reprezentuje dystans od sąsiednich neuronów (im jaśniej tym bliżej siebie są neurony). W komórki wpisane są znaczniki reprezentujące jak dane 'mapują' się na sieć. Im mniej nakładających się znaczników tym lepiej - świadczy to o lepszym pogrupowaniu danych."
   ]
  },
  {
   "cell_type": "code",
   "execution_count": 441,
   "id": "38c0ce44",
   "metadata": {},
   "outputs": [],
   "source": [
    "def plot_som(som, X_train, y_train):\n",
    "    plt.figure(figsize=(9, 9))\n",
    "\n",
    "    plt.pcolor(som.distance_map().T, cmap='bone_r')\n",
    "    plt.colorbar()\n",
    "\n",
    "    markers = ['o', 's', 'D']\n",
    "    colors = ['r','g','b']\n",
    "    for cnt, xx in enumerate(X_train):\n",
    "        w = som.winner(xx)\n",
    "        plt.plot(w[0] + 0.5, w[1] + 0.5, markers[int(y_train[cnt]) - 1], markerfacecolor='None',\n",
    "                 markeredgecolor=colors[int(y_train[cnt]) - 1], markersize=12, markeredgewidth=2)\n",
    "\n",
    "    plt.show()"
   ]
  },
  {
   "cell_type": "markdown",
   "id": "bf8c025e",
   "metadata": {},
   "source": [
    "Poniżej wyraźnie zarysowały się trzy odrębne rejony, w których dominują określone typy win."
   ]
  },
  {
   "cell_type": "code",
   "execution_count": 442,
   "id": "d554de76",
   "metadata": {},
   "outputs": [
    {
     "data": {
      "image/png": "[encoded data removed]",
      "text/plain": [
       "<Figure size 900x900 with 2 Axes>"
      ]
     },
     "metadata": {},
     "output_type": "display_data"
    }
   ],
   "source": [
    "plot_som(som, X_train, y_train)"
   ]
  },
  {
   "cell_type": "markdown",
   "id": "19b3587f",
   "metadata": {},
   "source": [
    "## Optymalizacja\n",
    "Używam tutaj biblioteki hyperopt. Dobór parametrów odbywa się na podstawie szukania najmniejszej wartości określonego przez nas błędu. Wykorzystywane jest do tego Bayesian optimization."
   ]
  },
  {
   "cell_type": "code",
   "execution_count": 445,
   "id": "c0bedac8",
   "metadata": {},
   "outputs": [],
   "source": [
    "from hyperopt import fmin, tpe, hp"
   ]
  },
  {
   "cell_type": "code",
   "execution_count": 446,
   "id": "049ccb14",
   "metadata": {},
   "outputs": [
    {
     "name": "stdout",
     "output_type": "stream",
     "text": [
      "0.3454629133420297\n",
      "0.02097902097902098\n"
     ]
    }
   ],
   "source": [
    "print(som.quantization_error(X_train))\n",
    "print(som.topographic_error(X_train))"
   ]
  },
  {
   "cell_type": "markdown",
   "id": "e3fa5b41",
   "metadata": {},
   "source": [
    "## Minimalizacja wskaźnika błędu poprzez dostrajanie parametru sigma\n",
    "Ostatecznie po wielu próbach otrzymane wartości sigma nie wpływały znacząco na quantization_error i topographic_error. Nie polepszały też mocno ani accuracy, ani innych miar klasyfikacji. Ilość iteracji w szukaniu najlepszej wartości powyżej 500 nie przynosiła już praktycznie żadnych zmian. Poniżej przedstawiłem po jednym przykładzie dla zmniejszenia każdego ze wspomnianych błędów."
   ]
  },
  {
   "cell_type": "markdown",
   "id": "6ebe898e",
   "metadata": {},
   "source": [
    "### quantization_error"
   ]
  },
  {
   "cell_type": "code",
   "execution_count": 447,
   "id": "c6ac7811",
   "metadata": {
    "scrolled": true
   },
   "outputs": [
    {
     "name": "stdout",
     "output_type": "stream",
     "text": [
      "100%|██████████| 500/500 [00:01<00:00, 309.55trial/s, best loss: 1.3584482184812372]\n",
      "{'sig': 2.9292801595887323}\n"
     ]
    }
   ],
   "source": [
    "best = fmin(fn=lambda sig: MiniSom(x_size, y_size, input_len, sigma=sig, learning_rate=learning_rate, random_seed=10).quantization_error(X_train),\n",
    "           space=hp.uniform(\"sig\", 0.001, x_size / 2.01),\n",
    "           algo=tpe.suggest,\n",
    "           max_evals=500)\n",
    "print(best)"
   ]
  },
  {
   "cell_type": "code",
   "execution_count": 448,
   "id": "9f63cd53",
   "metadata": {},
   "outputs": [
    {
     "name": "stdout",
     "output_type": "stream",
     "text": [
      "0.384756107167493\n",
      "0.013986013986013986\n"
     ]
    }
   ],
   "source": [
    "sig = best['sig']\n",
    "\n",
    "som = MiniSom(x_size, y_size, input_len, sigma=sig, learning_rate=learning_rate, random_seed=10)\n",
    "\n",
    "som.pca_weights_init(X_train)\n",
    "som.train_random(data = X_train, num_iteration = iterations)\n",
    "\n",
    "print(som.quantization_error(X_train))\n",
    "print(som.topographic_error(X_train))"
   ]
  },
  {
   "cell_type": "code",
   "execution_count": 449,
   "id": "dbc97b40",
   "metadata": {},
   "outputs": [
    {
     "name": "stdout",
     "output_type": "stream",
     "text": [
      "              precision    recall  f1-score   support\n",
      "\n",
      "           1       0.92      1.00      0.96        12\n",
      "           2       0.92      0.86      0.89        14\n",
      "           3       0.90      0.90      0.90        10\n",
      "\n",
      "    accuracy                           0.92        36\n",
      "   macro avg       0.92      0.92      0.92        36\n",
      "weighted avg       0.92      0.92      0.92        36\n",
      "\n",
      "              precision    recall  f1-score   support\n",
      "\n",
      "           1       0.92      1.00      0.96        12\n",
      "           2       1.00      0.93      0.96        14\n",
      "           3       1.00      1.00      1.00        10\n",
      "\n",
      "    accuracy                           0.97        36\n",
      "   macro avg       0.97      0.98      0.97        36\n",
      "weighted avg       0.97      0.97      0.97        36\n",
      "\n",
      "              precision    recall  f1-score   support\n",
      "\n",
      "           1       1.00      0.92      0.96        12\n",
      "           2       0.88      1.00      0.93        14\n",
      "           3       1.00      0.90      0.95        10\n",
      "\n",
      "    accuracy                           0.94        36\n",
      "   macro avg       0.96      0.94      0.95        36\n",
      "weighted avg       0.95      0.94      0.94        36\n",
      "\n",
      "              precision    recall  f1-score   support\n",
      "\n",
      "           1       0.85      0.92      0.88        12\n",
      "           2       0.80      0.86      0.83        14\n",
      "           3       1.00      0.78      0.88         9\n",
      "\n",
      "    accuracy                           0.86        35\n",
      "   macro avg       0.88      0.85      0.86        35\n",
      "weighted avg       0.87      0.86      0.86        35\n",
      "\n",
      "              precision    recall  f1-score   support\n",
      "\n",
      "           1       1.00      0.91      0.95        11\n",
      "           2       0.94      1.00      0.97        15\n",
      "           3       1.00      1.00      1.00         9\n",
      "\n",
      "    accuracy                           0.97        35\n",
      "   macro avg       0.98      0.97      0.97        35\n",
      "weighted avg       0.97      0.97      0.97        35\n",
      "\n",
      "Mean Precision: 0.9365763125763126\n",
      "Mean Recall: 0.9323809523809523\n",
      "Mean F1-score: 0.9323723443053895\n",
      "Mean Accuracy: 0.9323809523809523\n"
     ]
    }
   ],
   "source": [
    "precision_list, recall_list, f1_list, accuracy_list = [], [], [], []\n",
    "\n",
    "scaler = MinMaxScaler()\n",
    "\n",
    "for train_index, test_index in skf.split(X_array, y_array):\n",
    "    X_train, X_test = X_array[train_index], X_array[test_index]\n",
    "    y_train, y_test = y_array[train_index], y_array[test_index]\n",
    "    \n",
    "    X_train = scaler.fit_transform(X_train)\n",
    "    X_test = scaler.transform(X_test)\n",
    "\n",
    "    som.pca_weights_init(X_train)\n",
    "    som.train_batch(data=X_train, num_iteration=iterations)\n",
    "\n",
    "    y_pred = np.array(classify(som, X_test))\n",
    "    print(classification_report(y_test, y_pred))\n",
    "\n",
    "    report = classification_report(y_test, y_pred, output_dict=True)\n",
    "\n",
    "    precision_list.append(report['weighted avg']['precision'])\n",
    "    recall_list.append(report['weighted avg']['recall'])\n",
    "    f1_list.append(report['weighted avg']['f1-score'])\n",
    "    accuracy_list.append(report['accuracy'])\n",
    "\n",
    "mean_precision = np.mean(precision_list)\n",
    "mean_recall = np.mean(recall_list)\n",
    "mean_f1 = np.mean(f1_list)\n",
    "mean_accuracy = np.mean(accuracy_list)\n",
    "\n",
    "print(f'Mean Precision: {mean_precision}')\n",
    "print(f'Mean Recall: {mean_recall}')\n",
    "print(f'Mean F1-score: {mean_f1}')\n",
    "print(f'Mean Accuracy: {mean_accuracy}')"
   ]
  },
  {
   "cell_type": "markdown",
   "id": "33246641",
   "metadata": {},
   "source": [
    "### topographic_error"
   ]
  },
  {
   "cell_type": "code",
   "execution_count": 450,
   "id": "5bfad890",
   "metadata": {},
   "outputs": [
    {
     "name": "stdout",
     "output_type": "stream",
     "text": [
      "100%|██████████| 500/500 [00:01<00:00, 274.11trial/s, best loss: 0.965034965034965]\n",
      "{'sig': 3.3549983281519897}\n"
     ]
    }
   ],
   "source": [
    "best = fmin(fn=lambda sig: MiniSom(x_size, y_size, input_len, sigma=sig, learning_rate=learning_rate, random_seed=10).topographic_error(X_train),\n",
    "           space=hp.uniform(\"sig\", 0.001, x_size / 2.01),\n",
    "           algo=tpe.suggest,\n",
    "           max_evals=500)\n",
    "print(best)"
   ]
  },
  {
   "cell_type": "code",
   "execution_count": 451,
   "id": "e3c9bd04",
   "metadata": {},
   "outputs": [
    {
     "name": "stdout",
     "output_type": "stream",
     "text": [
      "0.3979628291827864\n",
      "0.0\n"
     ]
    }
   ],
   "source": [
    "sig = best['sig']\n",
    "\n",
    "som = MiniSom(x_size, y_size, input_len, sigma=sig, learning_rate=learning_rate, random_seed=10)\n",
    "\n",
    "som.pca_weights_init(X_train)\n",
    "som.train_random(data = X_train, num_iteration = iterations)\n",
    "\n",
    "print(som.quantization_error(X_train))\n",
    "print(som.topographic_error(X_train))"
   ]
  },
  {
   "cell_type": "code",
   "execution_count": 452,
   "id": "541ed2c6",
   "metadata": {},
   "outputs": [
    {
     "name": "stdout",
     "output_type": "stream",
     "text": [
      "              precision    recall  f1-score   support\n",
      "\n",
      "           1       1.00      1.00      1.00        12\n",
      "           2       0.93      0.93      0.93        14\n",
      "           3       0.90      0.90      0.90        10\n",
      "\n",
      "    accuracy                           0.94        36\n",
      "   macro avg       0.94      0.94      0.94        36\n",
      "weighted avg       0.94      0.94      0.94        36\n",
      "\n",
      "              precision    recall  f1-score   support\n",
      "\n",
      "           1       0.92      1.00      0.96        12\n",
      "           2       1.00      0.93      0.96        14\n",
      "           3       1.00      1.00      1.00        10\n",
      "\n",
      "    accuracy                           0.97        36\n",
      "   macro avg       0.97      0.98      0.97        36\n",
      "weighted avg       0.97      0.97      0.97        36\n",
      "\n",
      "              precision    recall  f1-score   support\n",
      "\n",
      "           1       1.00      1.00      1.00        12\n",
      "           2       0.74      1.00      0.85        14\n",
      "           3       1.00      0.50      0.67        10\n",
      "\n",
      "    accuracy                           0.86        36\n",
      "   macro avg       0.91      0.83      0.84        36\n",
      "weighted avg       0.90      0.86      0.85        36\n",
      "\n",
      "              precision    recall  f1-score   support\n",
      "\n",
      "           1       0.86      1.00      0.92        12\n",
      "           2       0.92      0.79      0.85        14\n",
      "           3       0.89      0.89      0.89         9\n",
      "\n",
      "    accuracy                           0.89        35\n",
      "   macro avg       0.89      0.89      0.89        35\n",
      "weighted avg       0.89      0.89      0.88        35\n",
      "\n",
      "              precision    recall  f1-score   support\n",
      "\n",
      "           1       1.00      1.00      1.00        11\n",
      "           2       1.00      1.00      1.00        15\n",
      "           3       1.00      1.00      1.00         9\n",
      "\n",
      "    accuracy                           1.00        35\n",
      "   macro avg       1.00      1.00      1.00        35\n",
      "weighted avg       1.00      1.00      1.00        35\n",
      "\n",
      "Mean Precision: 0.9411159767550746\n",
      "Mean Recall: 0.9326984126984126\n",
      "Mean F1-score: 0.9297418301862745\n",
      "Mean Accuracy: 0.9326984126984126\n"
     ]
    }
   ],
   "source": [
    "precision_list, recall_list, f1_list, accuracy_list = [], [], [], []\n",
    "\n",
    "scaler = MinMaxScaler()\n",
    "\n",
    "for train_index, test_index in skf.split(X_array, y_array):\n",
    "    X_train, X_test = X_array[train_index], X_array[test_index]\n",
    "    y_train, y_test = y_array[train_index], y_array[test_index]\n",
    "    \n",
    "    X_train = scaler.fit_transform(X_train)\n",
    "    X_test = scaler.transform(X_test)\n",
    "\n",
    "    som.pca_weights_init(X_train)\n",
    "    som.train_batch(data=X_train, num_iteration=iterations)\n",
    "\n",
    "    y_pred = np.array(classify(som, X_test))\n",
    "    print(classification_report(y_test, y_pred))\n",
    "\n",
    "    report = classification_report(y_test, y_pred, output_dict=True)\n",
    "\n",
    "    precision_list.append(report['weighted avg']['precision'])\n",
    "    recall_list.append(report['weighted avg']['recall'])\n",
    "    f1_list.append(report['weighted avg']['f1-score'])\n",
    "    accuracy_list.append(report['accuracy'])\n",
    "\n",
    "mean_precision = np.mean(precision_list)\n",
    "mean_recall = np.mean(recall_list)\n",
    "mean_f1 = np.mean(f1_list)\n",
    "mean_accuracy = np.mean(accuracy_list)\n",
    "\n",
    "print(f'Mean Precision: {mean_precision}')\n",
    "print(f'Mean Recall: {mean_recall}')\n",
    "print(f'Mean F1-score: {mean_f1}')\n",
    "print(f'Mean Accuracy: {mean_accuracy}')"
   ]
  }
 ],
 "metadata": {
  "kernelspec": {
   "display_name": "Python 3 (ipykernel)",
   "language": "python",
   "name": "python3"
  },
  "language_info": {
   "codemirror_mode": {
    "name": "ipython",
    "version": 3
   },
   "file_extension": ".py",
   "mimetype": "text/x-python",
   "name": "python",
   "nbconvert_exporter": "python",
   "pygments_lexer": "ipython3",
   "version": "3.11.5"
  }
 },
 "nbformat": 4,
 "nbformat_minor": 5
}
